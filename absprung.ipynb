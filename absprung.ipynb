{
 "cells": [
  {
   "cell_type": "code",
   "execution_count": 1,
   "id": "f7f3f117",
   "metadata": {},
   "outputs": [],
   "source": [
    "import videopipeline as vpl\n",
    "import os\n",
    "import numpy as np\n",
    "\n",
    "def add_suffix(path, suffix, new_ext='.mp4'):\n",
    "    return path.replace('.mp4', f'-{suffix}{new_ext}')\n",
    "\n",
    "def draw(images):\n",
    "    ref = images[0].shape\n",
    "    assert len(images) == 10, images.shape\n",
    "    out_image = np.zeros((ref[0] * 2, ref[1] * 5, 3))\n",
    "    asdf = [images[:5], images[5:]]\n",
    "    for i, row in enumerate(asdf):\n",
    "        for j, img in enumerate(row):\n",
    "            out_image[i * ref[0] : (i+1) * ref[0], j * ref[1] : (j+1) * ref[1]] = img\n",
    "    \n",
    "    return out_image"
   ]
  },
  {
   "cell_type": "code",
   "execution_count": 2,
   "id": "1d5f0056",
   "metadata": {},
   "outputs": [],
   "source": [
    "video_path = r\"videos/1.mp4\"\n",
    "img_size = (800, 1000)\n",
    "crop_pos = (200, 800)\n",
    "\n",
    "video_path = r\"videos/2.mp4\"\n",
    "img_size = (1000, 1000)\n",
    "crop_pos = (0, 800)\n",
    "\n",
    "video_path = r\"videos/3.mp4\"\n",
    "img_size = (1000, 1000)\n",
    "crop_pos = (0, 800)\n",
    "\n",
    "video_path = r\"videos/4.mp4\"\n",
    "img_size = (1000, 1000)\n",
    "crop_pos = (0, 800)\n",
    "\n",
    "video_path = r\"videos/5.mp4\"\n",
    "img_size = (1000, 1000)\n",
    "crop_pos = (0, 800)"
   ]
  },
  {
   "cell_type": "code",
   "execution_count": null,
   "id": "83dbcd95",
   "metadata": {
    "scrolled": false
   },
   "outputs": [],
   "source": [
    "# Absprung detector\n",
    "pipeline = [\n",
    "    vpl.nodes.generators.ReadVideoFile(video_path),\n",
    "    vpl.nodes.functions.Greyscale(),\n",
    "    vpl.nodes.actions.VideoWriter(add_suffix(video_path, \"gray\"), 30),\n",
    "    vpl.nodes.functions.Crop(crop_pos, img_size),\n",
    "    vpl.nodes.actions.VideoWriter(add_suffix(video_path, \"crop\"), 30),\n",
    "    vpl.nodes.functions.Smooth(101),\n",
    "    vpl.nodes.actions.VideoWriter(add_suffix(video_path, \"smooth1\"), 30),\n",
    "    vpl.nodes.functions.AbsDiff(),\n",
    "    vpl.nodes.actions.VideoWriter(add_suffix(video_path, \"absdiff\"), 30),\n",
    "    vpl.nodes.functions.Threshold(32),\n",
    "    vpl.nodes.actions.VideoWriter(add_suffix(video_path, \"threshold\"), 30),\n",
    "    vpl.nodes.functions.Dilate(100),\n",
    "    vpl.nodes.actions.VideoWriter(add_suffix(video_path, \"dilate\"), 30),\n",
    "    vpl.nodes.functions.Erode(100),\n",
    "    vpl.nodes.actions.VideoWriter(add_suffix(video_path, \"erode\"), 30),\n",
    "    vpl.nodes.functions.Smooth(11),\n",
    "    vpl.nodes.actions.VideoWriter(add_suffix(video_path, \"smooth2\"), 30),\n",
    "    vpl.nodes.functions.EdgeFilter(1, 100),\n",
    "    vpl.nodes.actions.VideoWriter(add_suffix(video_path, \"edge\"), 30),\n",
    "    vpl.nodes.functions.FindContours(),\n",
    "    vpl.nodes.functions.DrawContourCenters(),\n",
    "    vpl.nodes.functions.DrawMovementPath(),\n",
    "    vpl.nodes.actions.VideoWriter(add_suffix(video_path, \"path\"), 30),\n",
    "    vpl.core.Action(lambda *args: None, aggregate=True, collect=False),\n",
    "]\n",
    "\n",
    "# Combine all videos to one\n",
    "gray = vpl.nodes.generators.ReadVideoFile(add_suffix(video_path, \"gray\"))\n",
    "crop = vpl.nodes.generators.ReadVideoFile(add_suffix(video_path, \"crop\"))\n",
    "smooth1 = vpl.nodes.generators.ReadVideoFile(add_suffix(video_path, \"smooth1\"))\n",
    "absdiff = vpl.nodes.generators.ReadVideoFile(add_suffix(video_path, \"absdiff\"))\n",
    "threshold = vpl.nodes.generators.ReadVideoFile(add_suffix(video_path, \"threshold\"))\n",
    "dilate = vpl.nodes.generators.ReadVideoFile(add_suffix(video_path, \"dilate\"))\n",
    "erode = vpl.nodes.generators.ReadVideoFile(add_suffix(video_path, \"erode\"))\n",
    "smooth2 = vpl.nodes.generators.ReadVideoFile(add_suffix(video_path, \"smooth2\"))\n",
    "edge = vpl.nodes.generators.ReadVideoFile(add_suffix(video_path, \"edge\"))\n",
    "path = vpl.nodes.generators.ReadVideoFile(add_suffix(video_path, \"path\"))\n",
    "draw_all = vpl.core.Function(draw)([crop, smooth1, absdiff, threshold, dilate, erode, smooth2, edge, path])\n",
    "combined = vpl.nodes.actions.VideoWriter(add_suffix(video_path, \"combined\"), 5, aggregate=True, collect=False)(draw_all)\n",
    "\n",
    "_ = vpl.core.Pipeline(pipeline)()\n",
    "_ = vpl.core.Pipeline(combined)()"
   ]
  },
  {
   "cell_type": "code",
   "execution_count": null,
   "id": "d05342a2",
   "metadata": {},
   "outputs": [],
   "source": []
  }
 ],
 "metadata": {
  "kernelspec": {
   "display_name": "Python 3 (ipykernel)",
   "language": "python",
   "name": "python3"
  },
  "language_info": {
   "codemirror_mode": {
    "name": "ipython",
    "version": 3
   },
   "file_extension": ".py",
   "mimetype": "text/x-python",
   "name": "python",
   "nbconvert_exporter": "python",
   "pygments_lexer": "ipython3",
   "version": "3.9.8"
  }
 },
 "nbformat": 4,
 "nbformat_minor": 5
}
